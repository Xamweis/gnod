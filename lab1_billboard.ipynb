{
 "cells": [
  {
   "cell_type": "code",
   "execution_count": 1,
   "metadata": {},
   "outputs": [],
   "source": [
    "from bs4 import BeautifulSoup\n",
    "import requests\n",
    "import pandas as pd"
   ]
  },
  {
   "cell_type": "code",
   "execution_count": 2,
   "metadata": {},
   "outputs": [],
   "source": [
    "url = \"https://www.billboard.com/charts/hot-100\""
   ]
  },
  {
   "cell_type": "code",
   "execution_count": 3,
   "metadata": {},
   "outputs": [
    {
     "data": {
      "text/plain": [
       "200"
      ]
     },
     "execution_count": 3,
     "metadata": {},
     "output_type": "execute_result"
    }
   ],
   "source": [
    "response = requests.get(url, headers={'Accept-Language':'en-US'})\n",
    "response.status_code # 200 status code means OK!"
   ]
  },
  {
   "cell_type": "code",
   "execution_count": 4,
   "metadata": {},
   "outputs": [],
   "source": [
    "soup = BeautifulSoup(response.content, \"html.parser\")"
   ]
  },
  {
   "cell_type": "code",
   "execution_count": 5,
   "metadata": {},
   "outputs": [
    {
     "data": {
      "text/plain": [
       "100"
      ]
     },
     "execution_count": 5,
     "metadata": {},
     "output_type": "execute_result"
    }
   ],
   "source": [
    "songs = soup.select(\n",
    "    'div.o-chart-results-list-row-container > ul > li:nth-child(4) > ul > li:nth-child(1)'\n",
    ")\n",
    "len(songs)"
   ]
  },
  {
   "cell_type": "code",
   "execution_count": 6,
   "metadata": {},
   "outputs": [],
   "source": [
    "titles = []\n",
    "artists = []\n",
    "\n",
    "for row in songs:\n",
    "    titles.append(row.h3.get_text().strip())\n",
    "    artists.append(row.span.get_text().strip())"
   ]
  },
  {
   "cell_type": "code",
   "execution_count": 7,
   "metadata": {},
   "outputs": [
    {
     "data": {
      "text/html": [
       "<div>\n",
       "<style scoped>\n",
       "    .dataframe tbody tr th:only-of-type {\n",
       "        vertical-align: middle;\n",
       "    }\n",
       "\n",
       "    .dataframe tbody tr th {\n",
       "        vertical-align: top;\n",
       "    }\n",
       "\n",
       "    .dataframe thead th {\n",
       "        text-align: right;\n",
       "    }\n",
       "</style>\n",
       "<table border=\"1\" class=\"dataframe\">\n",
       "  <thead>\n",
       "    <tr style=\"text-align: right;\">\n",
       "      <th></th>\n",
       "      <th>Title</th>\n",
       "      <th>Artist</th>\n",
       "    </tr>\n",
       "  </thead>\n",
       "  <tbody>\n",
       "    <tr>\n",
       "      <th>1</th>\n",
       "      <td>Anti-Hero</td>\n",
       "      <td>Taylor Swift</td>\n",
       "    </tr>\n",
       "    <tr>\n",
       "      <th>2</th>\n",
       "      <td>Unholy</td>\n",
       "      <td>Sam Smith &amp; Kim Petras</td>\n",
       "    </tr>\n",
       "    <tr>\n",
       "      <th>3</th>\n",
       "      <td>Kill Bill</td>\n",
       "      <td>SZA</td>\n",
       "    </tr>\n",
       "    <tr>\n",
       "      <th>4</th>\n",
       "      <td>I'm Good (Blue)</td>\n",
       "      <td>David Guetta &amp; Bebe Rexha</td>\n",
       "    </tr>\n",
       "    <tr>\n",
       "      <th>5</th>\n",
       "      <td>Rich Flex</td>\n",
       "      <td>Drake &amp; 21 Savage</td>\n",
       "    </tr>\n",
       "    <tr>\n",
       "      <th>...</th>\n",
       "      <td>...</td>\n",
       "      <td>...</td>\n",
       "    </tr>\n",
       "    <tr>\n",
       "      <th>96</th>\n",
       "      <td>Shut Up My Moms Calling</td>\n",
       "      <td>Hotel Ugly</td>\n",
       "    </tr>\n",
       "    <tr>\n",
       "      <th>97</th>\n",
       "      <td>Midnight Rain</td>\n",
       "      <td>Taylor Swift</td>\n",
       "    </tr>\n",
       "    <tr>\n",
       "      <th>98</th>\n",
       "      <td>Players</td>\n",
       "      <td>Coi Leray</td>\n",
       "    </tr>\n",
       "    <tr>\n",
       "      <th>99</th>\n",
       "      <td>Major Distribution</td>\n",
       "      <td>Drake &amp; 21 Savage</td>\n",
       "    </tr>\n",
       "    <tr>\n",
       "      <th>100</th>\n",
       "      <td>Notice Me</td>\n",
       "      <td>SZA</td>\n",
       "    </tr>\n",
       "  </tbody>\n",
       "</table>\n",
       "<p>100 rows × 2 columns</p>\n",
       "</div>"
      ],
      "text/plain": [
       "                       Title                     Artist\n",
       "1                  Anti-Hero               Taylor Swift\n",
       "2                     Unholy     Sam Smith & Kim Petras\n",
       "3                  Kill Bill                        SZA\n",
       "4            I'm Good (Blue)  David Guetta & Bebe Rexha\n",
       "5                  Rich Flex          Drake & 21 Savage\n",
       "..                       ...                        ...\n",
       "96   Shut Up My Moms Calling                 Hotel Ugly\n",
       "97             Midnight Rain               Taylor Swift\n",
       "98                   Players                  Coi Leray\n",
       "99        Major Distribution          Drake & 21 Savage\n",
       "100                Notice Me                        SZA\n",
       "\n",
       "[100 rows x 2 columns]"
      ]
     },
     "execution_count": 7,
     "metadata": {},
     "output_type": "execute_result"
    }
   ],
   "source": [
    "top100 = pd.DataFrame({\n",
    "    'Title':titles,\n",
    "    'Artist':artists\n",
    "}, index=[x for x in range(1,101)])\n",
    "\n",
    "top100"
   ]
  },
  {
   "cell_type": "code",
   "execution_count": 8,
   "metadata": {},
   "outputs": [
    {
     "name": "stdout",
     "output_type": "stream",
     "text": [
      "Your song is in the top 100!\n",
      "How about checking out: \"On BS\" from Drake & 21 Savage!\n"
     ]
    }
   ],
   "source": [
    "import random\n",
    "\n",
    "user_song = input('Input a song: ')\n",
    "\n",
    "# lower all songs for easier input\n",
    "top100['Title_low'] = list(map(str.lower, top100['Title']))\n",
    "\n",
    "# drop all rows that have the song name\n",
    "top100_d = top100[top100['Title_low'] != user_song.lower()]\n",
    "\n",
    "# if rows got dropped: song in top100, recommend random song\n",
    "if len(top100) != len(top100_d):\n",
    "    # top limit len(top100_d)-1, because more than 1 row could have been dropped\n",
    "    rec = top100_d.iloc[random.randint(0, len(top100_d)-1)] \n",
    "    title = rec['Title']\n",
    "    artist = rec['Artist']\n",
    "    print('Your song is in the top 100!')\n",
    "    print(f'How about checking out: \"{title}\" from {artist}!')\n",
    "else:\n",
    "    print('Your song is not the top 100.')\n",
    "    print('No recommendations!')"
   ]
  }
 ],
 "metadata": {
  "kernelspec": {
   "display_name": "Python 3",
   "language": "python",
   "name": "python3"
  },
  "language_info": {
   "codemirror_mode": {
    "name": "ipython",
    "version": 3
   },
   "file_extension": ".py",
   "mimetype": "text/x-python",
   "name": "python",
   "nbconvert_exporter": "python",
   "pygments_lexer": "ipython3",
   "version": "3.10.6"
  },
  "orig_nbformat": 4,
  "vscode": {
   "interpreter": {
    "hash": "e7370f93d1d0cde622a1f8e1c04877d8463912d04d973331ad4851f04de6915a"
   }
  }
 },
 "nbformat": 4,
 "nbformat_minor": 2
}
