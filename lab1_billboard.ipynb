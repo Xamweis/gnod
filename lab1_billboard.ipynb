{
 "cells": [
  {
   "cell_type": "code",
   "execution_count": 1,
   "metadata": {},
   "outputs": [],
   "source": [
    "from bs4 import BeautifulSoup\n",
    "import requests\n",
    "import pandas as pd"
   ]
  },
  {
   "cell_type": "code",
   "execution_count": 2,
   "metadata": {},
   "outputs": [],
   "source": [
    "url = \"https://www.billboard.com/charts/hot-100\""
   ]
  },
  {
   "cell_type": "code",
   "execution_count": 3,
   "metadata": {},
   "outputs": [
    {
     "data": {
      "text/plain": [
       "200"
      ]
     },
     "execution_count": 3,
     "metadata": {},
     "output_type": "execute_result"
    }
   ],
   "source": [
    "response = requests.get(url, headers={'Accept-Language':'en-US'})\n",
    "response.status_code # 200 status code means OK!"
   ]
  },
  {
   "cell_type": "code",
   "execution_count": 4,
   "metadata": {},
   "outputs": [],
   "source": [
    "soup = BeautifulSoup(response.content, \"html.parser\")"
   ]
  },
  {
   "cell_type": "code",
   "execution_count": 5,
   "metadata": {},
   "outputs": [
    {
     "data": {
      "text/plain": [
       "100"
      ]
     },
     "execution_count": 5,
     "metadata": {},
     "output_type": "execute_result"
    }
   ],
   "source": [
    "songs = soup.select(\n",
    "    'div.o-chart-results-list-row-container > ul > li:nth-child(4) > ul > li:nth-child(1)'\n",
    ")\n",
    "len(songs)"
   ]
  },
  {
   "cell_type": "code",
   "execution_count": 6,
   "metadata": {},
   "outputs": [],
   "source": [
    "titles = []\n",
    "artists = []\n",
    "\n",
    "for row in songs:\n",
    "    titles.append(row.h3.get_text().strip())\n",
    "    artists.append(row.span.get_text().strip())"
   ]
  },
  {
   "cell_type": "code",
   "execution_count": 8,
   "metadata": {},
   "outputs": [],
   "source": [
    "top100 = pd.DataFrame({\n",
    "    'Title':titles,\n",
    "    'Artist':artists\n",
    "}, index=[x for x in range(1,101)])\n",
    "\n",
    "top100.to_csv('wrapper/top100_billboard.csv', index=False)"
   ]
  },
  {
   "cell_type": "code",
   "execution_count": 8,
   "metadata": {},
   "outputs": [
    {
     "name": "stdout",
     "output_type": "stream",
     "text": [
      "Your song is in the top 100!\n",
      "How about checking out: \"On BS\" from Drake & 21 Savage!\n"
     ]
    }
   ],
   "source": [
    "import random\n",
    "\n",
    "user_song = input('Input a song: ')\n",
    "\n",
    "# lower all songs for easier input\n",
    "top100['Title_low'] = list(map(str.lower, top100['Title']))\n",
    "\n",
    "# drop all rows that have the song name\n",
    "top100_d = top100[top100['Title_low'] != user_song.lower()]\n",
    "\n",
    "# if rows got dropped: song in top100, recommend random song\n",
    "if len(top100) != len(top100_d):\n",
    "    # top limit len(top100_d)-1, because more than 1 row could have been dropped\n",
    "    rec = top100_d.iloc[random.randint(0, len(top100_d)-1)] \n",
    "    title = rec['Title']\n",
    "    artist = rec['Artist']\n",
    "    print('Your song is in the top 100!')\n",
    "    print(f'How about checking out: \"{title}\" from {artist}!')\n",
    "else:\n",
    "    print('Your song is not the top 100.')\n",
    "    print('No recommendations!')"
   ]
  }
 ],
 "metadata": {
  "kernelspec": {
   "display_name": "Python 3",
   "language": "python",
   "name": "python3"
  },
  "language_info": {
   "codemirror_mode": {
    "name": "ipython",
    "version": 3
   },
   "file_extension": ".py",
   "mimetype": "text/x-python",
   "name": "python",
   "nbconvert_exporter": "python",
   "pygments_lexer": "ipython3",
   "version": "3.10.6"
  },
  "orig_nbformat": 4,
  "vscode": {
   "interpreter": {
    "hash": "e7370f93d1d0cde622a1f8e1c04877d8463912d04d973331ad4851f04de6915a"
   }
  }
 },
 "nbformat": 4,
 "nbformat_minor": 2
}
