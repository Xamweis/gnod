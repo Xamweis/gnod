{
 "cells": [
  {
   "cell_type": "code",
   "execution_count": 1,
   "metadata": {},
   "outputs": [],
   "source": [
    "import pandas as pd\n",
    "\n",
    "import spotipy\n",
    "from spotipy.oauth2 import SpotifyClientCredentials"
   ]
  },
  {
   "cell_type": "code",
   "execution_count": 2,
   "metadata": {
    "id": "P6Z1QB7eeJeq"
   },
   "outputs": [],
   "source": [
    "secrets_file = open(\"../secrets/secrets.txt\",\"r\")\n",
    "string = secrets_file.read()\n",
    "secrets_file.close()"
   ]
  },
  {
   "cell_type": "code",
   "execution_count": 3,
   "metadata": {
    "id": "gZmYnRSNngr7"
   },
   "outputs": [],
   "source": [
    "secrets_dict={}\n",
    "for line in string.split('\\n'):\n",
    "    if len(line) > 0:\n",
    "        secrets_dict[line.split(':')[0]]=line.split(':')[1]"
   ]
  },
  {
   "cell_type": "code",
   "execution_count": 4,
   "metadata": {},
   "outputs": [],
   "source": [
    "#Initialize SpotiPy with user credentials\n",
    "sp = spotipy.Spotify(auth_manager=SpotifyClientCredentials(client_id=secrets_dict['clientid'],\n",
    "                                                           client_secret=secrets_dict['clientsecret']))"
   ]
  },
  {
   "cell_type": "code",
   "execution_count": 5,
   "metadata": {},
   "outputs": [],
   "source": [
    "def spotiwrap(category, search, limit, off):\n",
    "    # with open('spotilogger.log', 'r') as lg:\n",
    "    #     prevlog = lg.read()\n",
    "        \n",
    "    logfile = open('spotilogger.log', 'a')\n",
    "    \n",
    "    try:\n",
    "        tracks = sp.search(q=f'{category}:{search}', type='track', limit=limit, offset=off)['tracks']['items']\n",
    "    except:\n",
    "        logfile.write(f'\\t### error recieving data from the API ###\\n')\n",
    "    \n",
    "    if len(tracks) == 0:\n",
    "        logfile.write(f'\\t### no entries ###\\n')\n",
    "        return\n",
    "\n",
    "    c = 0\n",
    "    for track in tracks:\n",
    "        song = {}\n",
    "        features = sp.audio_features(track['uri'])\n",
    "\n",
    "        song['track_name'] = track['name']\n",
    "        song[category] = search\n",
    "        song['id'] = track['id']\n",
    "        song['preview'] = track['preview_url']\n",
    "        song_pd = pd.DataFrame([song])\n",
    "        song_pd = pd.concat([song_pd, pd.json_normalize(features[0])], axis=1)\n",
    "\n",
    "        if c == 0:\n",
    "            songs = song_pd\n",
    "        else:\n",
    "            songs = pd.concat([songs, song_pd], axis=0)\n",
    "        c += 1\n",
    "    logfile.write(f'\\t{c} songs recieved\\n')\n",
    "    logfile.close()\n",
    "    return songs"
   ]
  },
  {
   "cell_type": "code",
   "execution_count": 6,
   "metadata": {},
   "outputs": [],
   "source": [
    "def filldb(category, searchlist, limit=50, offset=0, savepoints=100):\n",
    "    x = 0\n",
    "    count = len(searchlist)\n",
    "    if count > 1:\n",
    "        what = count\n",
    "    else:\n",
    "        what = searchlist[0]\n",
    "\n",
    "    for search in searchlist:\n",
    "\n",
    "        with open('spotilogger.log', 'a') as logfile:\n",
    "            logfile.write(f'{category}{x:6.0f}: {search}\\n')\n",
    "\n",
    "        if x == 0:\n",
    "            songdb = spotiwrap(category, search, limit, offset)\n",
    "        else:\n",
    "            songdb = pd.concat([songdb, spotiwrap(category, search, limit, offset)])\n",
    "        x += 1\n",
    "\n",
    "        if x % savepoints == 0:\n",
    "            songdb.to_csv(f'YOUR_SONG_DB_{category}_{what}.csv')\n",
    "\n",
    "    songdb.to_csv(f'YOUR_SONG_DB_{category}_{what}.csv')\n",
    "    return songdb\n"
   ]
  },
  {
   "cell_type": "code",
   "execution_count": 7,
   "metadata": {},
   "outputs": [],
   "source": [
    "# c = input('In which category do you want to search?')\n",
    "# s = input('What do you want to search there?')\n",
    "# filldb(c, s.split(','))\n",
    "\n",
    "# album, artist, track, year, genre\n",
    "# example: data = filldb('artist', ['Metallica'], 50, 0, 100)"
   ]
  },
  {
   "cell_type": "code",
   "execution_count": 8,
   "metadata": {},
   "outputs": [],
   "source": [
    "def get_arts_per_category(category, search, limit=50, offset=0):\n",
    "    arts = sp.search(q=f'{category}:{search}', type='artist', limit=limit, offset=offset)['artists']['items']\n",
    "    print(search, offset)\n",
    "    artists = [art['name'] for art in arts]\n",
    "    return artists"
   ]
  },
  {
   "cell_type": "code",
   "execution_count": null,
   "metadata": {},
   "outputs": [],
   "source": [
    "arts = []\n",
    "for x in range(0,1000,50):\n",
    "    try:\n",
    "        arts.append([get_arts_per_category('year', i, offset=x) for i in range(1950,2024)])\n",
    "    except:\n",
    "        print('error')\n",
    "        continue"
   ]
  },
  {
   "cell_type": "code",
   "execution_count": null,
   "metadata": {},
   "outputs": [],
   "source": [
    "flat_list = [art for sublist in arts for art in sublist]\n",
    "flat_list = [art for sublist in flat_list for art in sublist]\n",
    "flat_list = list(set(flat_list))\n",
    "\n",
    "with open('artists.txt', 'w') as file:\n",
    "    for art in flat_list:\n",
    "        file.write(f'{art}\\n')\n",
    "len(flat_list)"
   ]
  },
  {
   "cell_type": "code",
   "execution_count": 147,
   "metadata": {},
   "outputs": [],
   "source": [
    "%%time\n",
    "\n",
    "for o in range(0,200,50):\n",
    "    try:\n",
    "        filldb('artist', flat_list, offset=o, savepoints=10)\n",
    "    except Exception as e:\n",
    "        with open('spotilogger.log', 'a') as logfile:\n",
    "            logfile.write(f'some thing in the programm went wrong {e}')"
   ]
  }
 ],
 "metadata": {
  "kernelspec": {
   "display_name": "base",
   "language": "python",
   "name": "python3"
  },
  "language_info": {
   "codemirror_mode": {
    "name": "ipython",
    "version": 3
   },
   "file_extension": ".py",
   "mimetype": "text/x-python",
   "name": "python",
   "nbconvert_exporter": "python",
   "pygments_lexer": "ipython3",
   "version": "3.9.13"
  },
  "orig_nbformat": 4,
  "vscode": {
   "interpreter": {
    "hash": "110a49fd1fc6ce11dd5772feb9d88a10bee43765f151468609dcac41899fc28c"
   }
  }
 },
 "nbformat": 4,
 "nbformat_minor": 2
}
