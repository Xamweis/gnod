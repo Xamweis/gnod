{
 "cells": [
  {
   "cell_type": "code",
   "execution_count": 1,
   "metadata": {},
   "outputs": [],
   "source": [
    "import pandas as pd\n",
    "import random\n",
    "import time\n",
    "\n",
    "import spotipy\n",
    "from spotipy.oauth2 import SpotifyClientCredentials"
   ]
  },
  {
   "cell_type": "code",
   "execution_count": 2,
   "metadata": {
    "id": "P6Z1QB7eeJeq"
   },
   "outputs": [],
   "source": [
    "secrets_file = open(\"../secrets/secrets.txt\",\"r\")\n",
    "string = secrets_file.read()\n",
    "secrets_file.close()"
   ]
  },
  {
   "cell_type": "code",
   "execution_count": 3,
   "metadata": {
    "id": "gZmYnRSNngr7"
   },
   "outputs": [],
   "source": [
    "secrets_dict={}\n",
    "for line in string.split('\\n'):\n",
    "    if len(line) > 0:\n",
    "        secrets_dict[line.split(':')[0]]=line.split(':')[1]"
   ]
  },
  {
   "cell_type": "code",
   "execution_count": 4,
   "metadata": {},
   "outputs": [],
   "source": [
    "#Initialize SpotiPy with user credentials\n",
    "sp = spotipy.Spotify(auth_manager=SpotifyClientCredentials(client_id=secrets_dict['clientid'],\n",
    "                                                           client_secret=secrets_dict['clientsecret']))"
   ]
  },
  {
   "cell_type": "code",
   "execution_count": 5,
   "metadata": {},
   "outputs": [],
   "source": [
    "def get_track_with_uri(category, search, track):\n",
    "    song = {}\n",
    "\n",
    "    song['track_name'] = track['name']\n",
    "    song[category] = search\n",
    "    song['id'] = track['id']\n",
    "    song['preview'] = track['preview_url']\n",
    "    song_pd = pd.DataFrame([song])\n",
    "    \n",
    "    return song_pd"
   ]
  },
  {
   "cell_type": "code",
   "execution_count": 6,
   "metadata": {},
   "outputs": [],
   "source": [
    "def get_songs_with_features(category, search, limit, off, max_retries=5):\n",
    "\n",
    "    logfile = open('spotilogger.log', 'a')\n",
    "    \n",
    "    for i in range(max_retries):\n",
    "        try:\n",
    "            time.sleep(random.randint(500,2000)/1000)\n",
    "            tracks = sp.search(q=f'{category}:{search}', type='track', limit=limit, offset=off)['tracks']['items']\n",
    "        except:\n",
    "            logfile.write(f'\\t### error recieving data from the API ###\\n')\n",
    "            if i < max_retries-1:\n",
    "                delay = 0.1 * (2 ** i)\n",
    "                logfile.write(f'\\t### waiting for {delay} sec ###\\n')\n",
    "                time.sleep(delay)\n",
    "            else:\n",
    "                logfile.write(f'\\t### max retries of {max_retries} used, will skip request ###\\n')\n",
    "                continue\n",
    "        else:\n",
    "            break\n",
    "\n",
    "    if len(tracks) == 0:\n",
    "        logfile.write(f'\\t### no entries ###\\n')\n",
    "        return\n",
    "\n",
    "    c = 0\n",
    "    track_uris = []\n",
    "    for track in tracks:\n",
    "        song_pd= get_track_with_uri(category, search, track)\n",
    "        track_uris.append(track['uri'])\n",
    "\n",
    "        if c == 0:\n",
    "            songs_wo_features = song_pd\n",
    "        else:\n",
    "            songs_wo_features = pd.concat([songs_wo_features, song_pd], axis=0)\n",
    "        c += 1\n",
    "\n",
    "    songs_wo_features = songs_wo_features.reset_index(drop=True)\n",
    "    features = pd.json_normalize(sp.audio_features(track_uris)).reset_index(drop=True)\n",
    "    songs_with_features = pd.concat([songs_wo_features, features], axis=1)\n",
    "\n",
    "    logfile.write(f'\\t{c} songs recieved\\n')\n",
    "    logfile.close()\n",
    "    \n",
    "    return songs_with_features"
   ]
  },
  {
   "cell_type": "code",
   "execution_count": 7,
   "metadata": {},
   "outputs": [],
   "source": [
    "def get_songs_from_category(category, searchlist, limit=50, offset=0, savepoints=100):\n",
    "    x = 0\n",
    "    count = len(searchlist)\n",
    "    if count > 1:\n",
    "        what = count\n",
    "    else:\n",
    "        what = searchlist[0]\n",
    "\n",
    "    for search in searchlist:\n",
    "        with open('spotilogger.log', 'a') as logfile:\n",
    "            logfile.write(f'{category}{x:6.0f}: {search}\\n')\n",
    "\n",
    "        try:\n",
    "            if x == 0:\n",
    "                songdb = get_songs_with_features(category, search, limit, offset)\n",
    "            else:\n",
    "                songdb = pd.concat([songdb, get_songs_with_features(category, search, limit, offset)], axis=0)\n",
    "        except Exception as e:\n",
    "            with open('spotilogger.log', 'a') as logfile:\n",
    "                logfile.write(f'### something went wrong at datahandling: {e} ###\\n')\n",
    "            continue\n",
    "        else:\n",
    "            x += 1\n",
    "            songdb[category] = search\n",
    "\n",
    "        if x % savepoints == 0:\n",
    "            songdb.to_csv(f'YOUR_SONG_DB_{category}_{what}_off{offset}.csv')\n",
    "\n",
    "    songdb.to_csv(f'YOUR_SONG_DB_{category}_{what}_off{offset}.csv')\n",
    "    return songdb\n"
   ]
  },
  {
   "cell_type": "code",
   "execution_count": 8,
   "metadata": {},
   "outputs": [],
   "source": [
    "# c = input('In which category do you want to search?')\n",
    "# s = input('What do you want to search there?')\n",
    "# filldb(c, s.split(','))\n",
    "\n",
    "# album, artist, track, year, genre\n",
    "# example: data = filldb('artist', ['Metallica'], 50, 0, 100)"
   ]
  },
  {
   "cell_type": "code",
   "execution_count": 9,
   "metadata": {},
   "outputs": [],
   "source": [
    "def get_arts_per_category(category, search, limit=50, offset=0):\n",
    "    arts = sp.search(q=f'{category}:{search}', type='artist', limit=limit, offset=offset)['artists']['items']\n",
    "    print(search, offset)\n",
    "    artists = [art['name'] for art in arts]\n",
    "    return artists"
   ]
  },
  {
   "cell_type": "code",
   "execution_count": 10,
   "metadata": {},
   "outputs": [],
   "source": [
    "# arts = []\n",
    "# for x in range(0,500,50):\n",
    "#     try:\n",
    "#         arts.append([get_arts_per_category('year', i, offset=x) for i in range(1950,2024)])\n",
    "#     except:\n",
    "#         print('error')\n",
    "#         continue"
   ]
  },
  {
   "attachments": {},
   "cell_type": "markdown",
   "metadata": {},
   "source": [
    "# 20 songs of every 20 artists of 1380 genres:"
   ]
  },
  {
   "cell_type": "code",
   "execution_count": null,
   "metadata": {},
   "outputs": [],
   "source": [
    "with open('genres.txt', 'r') as f:\n",
    "    genres = [g.replace('\\n', '') for g in f.readlines()]\n",
    "\n",
    "arts = []\n",
    "for x in range(0,50,50):\n",
    "    try:\n",
    "        arts.append([get_arts_per_category('genre', genre, limit=20, offset=x) for genre in genres])\n",
    "    except:\n",
    "        print('error')\n",
    "        continue\n",
    "\n",
    "# 2min 18s"
   ]
  },
  {
   "cell_type": "code",
   "execution_count": 24,
   "metadata": {},
   "outputs": [
    {
     "data": {
      "text/plain": [
       "8798"
      ]
     },
     "execution_count": 24,
     "metadata": {},
     "output_type": "execute_result"
    }
   ],
   "source": [
    "flat_list = [art for sublist in arts for art in sublist]\n",
    "flat_list = [art for sublist in flat_list for art in sublist]\n",
    "flat_list = list(set(flat_list))\n",
    "\n",
    "with open('artists.txt', 'w') as file:\n",
    "    for art in flat_list:\n",
    "        file.write(f'{art}\\n')"
   ]
  },
  {
   "cell_type": "code",
   "execution_count": 11,
   "metadata": {},
   "outputs": [],
   "source": [
    "with open('artists.txt', 'r') as f:\n",
    "    flat_list = [g.replace('\\n', '') for g in f.readlines()]"
   ]
  },
  {
   "cell_type": "code",
   "execution_count": 12,
   "metadata": {},
   "outputs": [
    {
     "data": {
      "text/plain": [
       "8798"
      ]
     },
     "execution_count": 12,
     "metadata": {},
     "output_type": "execute_result"
    }
   ],
   "source": [
    "random.shuffle(flat_list)\n",
    "len(flat_list)"
   ]
  },
  {
   "cell_type": "code",
   "execution_count": 13,
   "metadata": {},
   "outputs": [],
   "source": [
    "def get_more_than_50_per(category, searches, start, end, batch_size, savepoints):\n",
    "    for offset in range(start, end, batch_size):\n",
    "        try:\n",
    "            return get_songs_from_category('artist', searches, limit=batch_size, offset=offset, savepoints=savepoints)\n",
    "        except Exception as e:\n",
    "            with open('spotilogger.log', 'a') as logfile:\n",
    "                logfile.write(f'FATAL!!! {e.args}')\n",
    "            return\n",
    "    "
   ]
  },
  {
   "cell_type": "code",
   "execution_count": 14,
   "metadata": {},
   "outputs": [],
   "source": [
    "get_more_than_50_per('artist', flat_list[1], 0, 20, 20, 10)"
   ]
  }
 ],
 "metadata": {
  "kernelspec": {
   "display_name": "base",
   "language": "python",
   "name": "python3"
  },
  "language_info": {
   "codemirror_mode": {
    "name": "ipython",
    "version": 3
   },
   "file_extension": ".py",
   "mimetype": "text/x-python",
   "name": "python",
   "nbconvert_exporter": "python",
   "pygments_lexer": "ipython3",
   "version": "3.9.13"
  },
  "orig_nbformat": 4,
  "vscode": {
   "interpreter": {
    "hash": "110a49fd1fc6ce11dd5772feb9d88a10bee43765f151468609dcac41899fc28c"
   }
  }
 },
 "nbformat": 4,
 "nbformat_minor": 2
}
